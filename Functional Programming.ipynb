{
 "cells": [
  {
   "cell_type": "markdown",
   "metadata": {},
   "source": [
    "# What is `Functional Programming`"
   ]
  },
  {
   "cell_type": "markdown",
   "metadata": {},
   "source": [
    "* Functional Programming is the way of programming in which we include some special functions.\n",
    "* These functions unlike other functions, `takes in the same input` & `produces same output` for every run\n",
    "* Also they wont modify/interfere with 'outside world' meaning they wont anything change by their own"
   ]
  },
  {
   "cell_type": "markdown",
   "metadata": {},
   "source": [
    "## 1. `map()`"
   ]
  },
  {
   "cell_type": "markdown",
   "metadata": {},
   "source": [
    "`map()` takes in the data and function to be applied to the data as the arguments. i.e\n",
    "\n",
    "map(function,data)\n",
    "\n"
   ]
  },
  {
   "cell_type": "code",
   "execution_count": 2,
   "metadata": {},
   "outputs": [
    {
     "name": "stdout",
     "output_type": "stream",
     "text": [
      "[2, 4, 6]\n"
     ]
    }
   ],
   "source": [
    "# without map\n",
    "\n",
    "def mul_by_2(li):\n",
    "    new_li=[]\n",
    "    for i in li:\n",
    "        new_li.append(2*i)\n",
    "    return new_li\n",
    "    \n",
    "    \n",
    "print(mul_by_2([1,2,3]))"
   ]
  },
  {
   "cell_type": "code",
   "execution_count": 3,
   "metadata": {},
   "outputs": [
    {
     "name": "stdout",
     "output_type": "stream",
     "text": [
      "[2, 4, 6]\n"
     ]
    }
   ],
   "source": [
    "# with map\n",
    "\n",
    "def mul_by_2(li):\n",
    "    return li*2\n",
    "print(list(map(mul_by_2,[1,2,3])))"
   ]
  },
  {
   "cell_type": "markdown",
   "metadata": {},
   "source": [
    "Notice that `map()` doesnt alter the outside data thus following functional pgmmng rules"
   ]
  },
  {
   "cell_type": "code",
   "execution_count": 6,
   "metadata": {},
   "outputs": [
    {
     "name": "stdout",
     "output_type": "stream",
     "text": [
      "[2, 4, 6]\n",
      "See the demo list hasnt changed [1, 2, 3]\n"
     ]
    }
   ],
   "source": [
    "dem_li = [1,2,3]\n",
    "\n",
    "def mul_by_2(li):\n",
    "    return li*2\n",
    "print(list(map(mul_by_2,dem_li)))\n",
    "print(f\"See the demo list hasnt changed {dem_li}\")"
   ]
  },
  {
   "cell_type": "markdown",
   "metadata": {},
   "source": [
    "---"
   ]
  },
  {
   "cell_type": "markdown",
   "metadata": {},
   "source": [
    "## 2. `filter()`"
   ]
  },
  {
   "cell_type": "markdown",
   "metadata": {},
   "source": [
    "`filter()` as the name suggests filters out the undesired data from our result"
   ]
  },
  {
   "cell_type": "code",
   "execution_count": 9,
   "metadata": {},
   "outputs": [
    {
     "name": "stdout",
     "output_type": "stream",
     "text": [
      "[1, 3]\n"
     ]
    }
   ],
   "source": [
    "li = [1,2,3,4]\n",
    "def check_odd(item):\n",
    "    return item%2!= 0\n",
    "print(list(filter(check_odd,li)))"
   ]
  },
  {
   "cell_type": "markdown",
   "metadata": {},
   "source": [
    "---"
   ]
  },
  {
   "cell_type": "markdown",
   "metadata": {},
   "source": [
    "## 3. `zip()`"
   ]
  },
  {
   "cell_type": "markdown",
   "metadata": {},
   "source": [
    "`zip()` as the name suggests `zips different iterables into one`"
   ]
  },
  {
   "cell_type": "code",
   "execution_count": 10,
   "metadata": {},
   "outputs": [
    {
     "name": "stdout",
     "output_type": "stream",
     "text": [
      "[(1, 11), (2, 22), (3, 33), (4, 44)]\n"
     ]
    }
   ],
   "source": [
    "li_1 = [1,2,3,4]\n",
    "\n",
    "li_2 = [11,22,33,44]\n",
    "\n",
    "print(list(zip(li_1,li_2)))"
   ]
  },
  {
   "cell_type": "markdown",
   "metadata": {},
   "source": [
    "---"
   ]
  },
  {
   "cell_type": "markdown",
   "metadata": {},
   "source": [
    "## 4. `reduce()`"
   ]
  },
  {
   "cell_type": "markdown",
   "metadata": {},
   "source": [
    "`reduce()` tries to reduce the passed data based upon the function specified by the programmer.\n",
    "* Here an initial value is needed to be specified (here 1) .\n",
    "* The operation can be any"
   ]
  },
  {
   "cell_type": "code",
   "execution_count": 16,
   "metadata": {},
   "outputs": [
    {
     "name": "stdout",
     "output_type": "stream",
     "text": [
      "16\n"
     ]
    }
   ],
   "source": [
    "from functools import reduce\n",
    "data = [1,2,3,4,5]\n",
    "\n",
    "def manipulator(mn,item):\n",
    "    return mn + item\n",
    "\n",
    "print(reduce(manipulator,data,1))"
   ]
  },
  {
   "cell_type": "markdown",
   "metadata": {},
   "source": [
    "What has happened above is continous addition of elements ,i.e \n",
    "initial value is specified as 1. This is being added with the first element of our passed list\n",
    "Now this result is added with the 2nd element of the list & is continued till the last element of the list"
   ]
  },
  {
   "cell_type": "markdown",
   "metadata": {},
   "source": [
    "## 5. `lambda expressions`"
   ]
  },
  {
   "cell_type": "markdown",
   "metadata": {},
   "source": [
    "Lambda expressions are like use and throw functions. \n",
    "* We dont define it in any part of the code.\n",
    "* We use it on the go\n",
    "* It takes the gen form : `lambda param : action_to_be_done(param) , data`"
   ]
  },
  {
   "cell_type": "markdown",
   "metadata": {},
   "source": [
    "Lets consider the mul_by_2(). Lets try avoiding the use of that function and instead use lambda"
   ]
  },
  {
   "cell_type": "code",
   "execution_count": 19,
   "metadata": {},
   "outputs": [
    {
     "name": "stdout",
     "output_type": "stream",
     "text": [
      "[2, 4, 6, 8]\n"
     ]
    }
   ],
   "source": [
    "lis = [1,2,3,4]\n",
    "\n",
    "print(list(map(lambda item : item*2,lis)))"
   ]
  }
 ],
 "metadata": {
  "kernelspec": {
   "display_name": "Python 3",
   "language": "python",
   "name": "python3"
  },
  "language_info": {
   "codemirror_mode": {
    "name": "ipython",
    "version": 3
   },
   "file_extension": ".py",
   "mimetype": "text/x-python",
   "name": "python",
   "nbconvert_exporter": "python",
   "pygments_lexer": "ipython3",
   "version": "3.8.2"
  }
 },
 "nbformat": 4,
 "nbformat_minor": 4
}
